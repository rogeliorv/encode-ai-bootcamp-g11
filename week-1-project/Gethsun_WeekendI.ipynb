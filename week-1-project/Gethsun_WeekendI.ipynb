{
  "nbformat": 4,
  "nbformat_minor": 0,
  "metadata": {
    "colab": {
      "provenance": [],
      "authorship_tag": "ABX9TyO8FnokXHEWg8HqDq460WOg",
      "include_colab_link": true
    },
    "kernelspec": {
      "name": "python3",
      "display_name": "Python 3"
    },
    "language_info": {
      "name": "python"
    }
  },
  "cells": [
    {
      "cell_type": "markdown",
      "metadata": {
        "id": "view-in-github",
        "colab_type": "text"
      },
      "source": [
        "<a href=\"https://colab.research.google.com/github/rogeliorv/encode-ai-bootcamp-g11/blob/main/Gethsun_WeekendI.ipynb\" target=\"_parent\"><img src=\"https://colab.research.google.com/assets/colab-badge.svg\" alt=\"Open In Colab\"/></a>"
      ]
    },
    {
      "cell_type": "markdown",
      "source": [],
      "metadata": {
        "id": "q0-Echsf0SQO"
      }
    },
    {
      "cell_type": "markdown",
      "source": [
        "# Interactive AI Chef: Recipe Suggestions, Critiques, and Ingredient-Based Dish Ideas\n",
        "\n",
        "*This Google Colab notebook provides an interactive AI chef experience. Users can input ingredients to get dish suggestions, request detailed recipes for specific dishes, or submit their own recipes for critique and improvement. The AI, modeled as a young and spirited Kenyan cook, offers clear, detailed, and helpful responses to enhance your cooking experience.*"
      ],
      "metadata": {
        "id": "IiE-DDNXzBYh"
      }
    },
    {
      "cell_type": "code",
      "execution_count": null,
      "metadata": {
        "id": "WwiRUG1XeSS_"
      },
      "outputs": [],
      "source": [
        "!pip install openai"
      ]
    },
    {
      "cell_type": "code",
      "source": [
        "from openai import OpenAI\n",
        "from google.colab import userdata # Import the userdata module from Google Colab\n",
        "\n",
        "\n",
        "# Retrieve your API key (replace 'OPEN_API_KEY' with the name you used to store it)\n",
        "api_key = userdata.get('OPEN_API_KEY')\n",
        "\n",
        "# Initialize the OpenAI client with the API key\n",
        "client = OpenAI(api_key=api_key)"
      ],
      "metadata": {
        "id": "GdXDd4m9fvav"
      },
      "execution_count": 22,
      "outputs": []
    },
    {
      "cell_type": "code",
      "source": [
        "# Initial system messages to set the context and behavior of the AI\n",
        "system_messages = [\n",
        "    {\n",
        "        \"role\": \"system\",\n",
        "        \"content\": (\n",
        "            \"You are a young and spirited Kenyan cook that loves to make Githeri. \"\n",
        "            \"You help people by suggesting detailed recipes for dishes they want to cook, \"\n",
        "            \"suggesting dishes based on ingredients provided, and criticizing recipes given by the user. \"\n",
        "            \"You always try to be as clear as possible and provide the best possible suggestions for the user's needs. \"\n",
        "            \"You know a lot about different cuisines and cooking techniques. You are also very patient and understanding with the user's needs and questions.\"\n",
        "        ),\n",
        "    },\n",
        "    {\n",
        "        \"role\": \"system\",\n",
        "        \"content\": (\n",
        "            \"Your client will provide either ingredients, a dish name, or a recipe. \"\n",
        "            \"If the input is a list of ingredients, suggest a dish name that can be made with those ingredients, but do not provide the recipe at this stage. \"\n",
        "            \"If the input is a dish name, provide a detailed recipe for that dish. \"\n",
        "            \"If the input is a recipe, critique the recipe and suggest improvements. \"\n",
        "            \"If the input does not match these scenarios, deny the request and ask the user to try again.\"\n",
        "        ),\n",
        "    }\n",
        "]\n",
        "\n",
        "# Function to handle ingredients input\n",
        "def handle_ingredients(input_str):\n",
        "    messages = system_messages + [\n",
        "        {\n",
        "            \"role\": \"user\",\n",
        "            \"content\": f\"Suggest a dish name that can be made with these ingredients: {input_str}\"\n",
        "        }\n",
        "    ]\n",
        "    return get_response(messages)\n",
        "\n",
        "# Function to handle dish name input\n",
        "def handle_dish(input_str):\n",
        "    messages = system_messages + [\n",
        "        {\n",
        "            \"role\": \"user\",\n",
        "            \"content\": f\"Suggest me a detailed recipe and the preparation steps for making {input_str}\"\n",
        "        }\n",
        "    ]\n",
        "    return get_response(messages)\n",
        "\n",
        "# Function to handle recipe input\n",
        "def handle_recipe(input_str):\n",
        "    messages = system_messages + [\n",
        "        {\n",
        "            \"role\": \"user\",\n",
        "            \"content\": f\"Criticize this recipe and suggest changes: {input_str}\"\n",
        "        }\n",
        "    ]\n",
        "    return get_response(messages)\n",
        "\n",
        "# Function to get response from OpenAI\n",
        "def get_response(messages):\n",
        "    model = \"gpt-3.5-turbo\"\n",
        "    stream = client.chat.completions.create(\n",
        "        model=model,\n",
        "        messages=messages,\n",
        "        stream=True,\n",
        "    )\n",
        "    collected_messages = []\n",
        "    for chunk in stream:\n",
        "        chunk_message = chunk.choices[0].delta.content or \"\"\n",
        "        print(chunk_message, end=\"\")\n",
        "        collected_messages.append(chunk_message)\n",
        "    return \"\".join(collected_messages)\n",
        "\n",
        "# Main function to process user input and call appropriate function\n",
        "def main():\n",
        "    user_input = input(\"Enter your request (ingredients, dish name, or recipe):\\n\")\n",
        "    if ',' in user_input:\n",
        "        print(handle_ingredients(user_input))\n",
        "    elif any(char.isdigit() for char in user_input):\n",
        "        print(handle_recipe(user_input))\n",
        "    else:\n",
        "        print(handle_dish(user_input))\n",
        "\n",
        "# Call the main function directly to execute the script\n",
        "main()\n"
      ],
      "metadata": {
        "colab": {
          "base_uri": "https://localhost:8080/"
        },
        "id": "v2QYJGWihZCh",
        "outputId": "3e5ed260-e7d9-4c2f-82ae-2c515e5f031e"
      },
      "execution_count": 31,
      "outputs": [
        {
          "output_type": "stream",
          "name": "stdout",
          "text": [
            "Enter your request (ingredients, dish name, or recipe):\n",
            "Githeri\n",
            "Githeri is a popular Kenyan dish made with a mix of maize and beans cooked together. Here's a detailed recipe and preparation steps for making Githeri:\n",
            "\n",
            "Ingredients:\n",
            "- 2 cups of maize, soaked overnight\n",
            "- 1 cup of beans (you can use any beans of your choice), soaked overnight\n",
            "- 1 onion, chopped\n",
            "- 2 tomatoes, chopped\n",
            "- 2 cloves of garlic, minced\n",
            "- 1 teaspoon of turmeric powder\n",
            "- 1 teaspoon of cumin powder\n",
            "- Salt to taste\n",
            "- Water\n",
            "- Optional: chopped fresh coriander for garnish\n",
            "\n",
            "Preparation steps:\n",
            "1. In a large pot, combine the soaked maize and beans. Add enough water to cover the maize and beans, then bring to a boil.\n",
            "2. Reduce the heat to low and let it simmer for about 30 minutes or until the maize and beans are partially cooked.\n",
            "3. In a separate pan, heat some oil over medium heat. Add the chopped onions and sauté until they are translucent.\n",
            "4. Add the minced garlic and cook for another minute until fragrant.\n",
            "5. Add the chopped tomatoes, turmeric powder, cumin powder, and salt. Cook the mixture until the tomatoes are soft and the flavors are well combined.\n",
            "6. Transfer the cooked tomato mixture into the pot with the partially cooked maize and beans. Stir well to combine.\n",
            "7. Continue to simmer the Githeri over low heat, stirring occasionally, until the maize and beans are fully cooked and tender. This may take another 30-40 minutes.\n",
            "8. Once the Githeri is cooked to your desired consistency, adjust the seasoning with salt if needed.\n",
            "9. Serve the Githeri hot, garnished with chopped fresh coriander if desired. It pairs well with a side of fresh vegetables or a salad.\n",
            "\n",
            "Enjoy your homemade Githeri! If you have any questions or need further assistance with the recipe, feel free to ask.Githeri is a popular Kenyan dish made with a mix of maize and beans cooked together. Here's a detailed recipe and preparation steps for making Githeri:\n",
            "\n",
            "Ingredients:\n",
            "- 2 cups of maize, soaked overnight\n",
            "- 1 cup of beans (you can use any beans of your choice), soaked overnight\n",
            "- 1 onion, chopped\n",
            "- 2 tomatoes, chopped\n",
            "- 2 cloves of garlic, minced\n",
            "- 1 teaspoon of turmeric powder\n",
            "- 1 teaspoon of cumin powder\n",
            "- Salt to taste\n",
            "- Water\n",
            "- Optional: chopped fresh coriander for garnish\n",
            "\n",
            "Preparation steps:\n",
            "1. In a large pot, combine the soaked maize and beans. Add enough water to cover the maize and beans, then bring to a boil.\n",
            "2. Reduce the heat to low and let it simmer for about 30 minutes or until the maize and beans are partially cooked.\n",
            "3. In a separate pan, heat some oil over medium heat. Add the chopped onions and sauté until they are translucent.\n",
            "4. Add the minced garlic and cook for another minute until fragrant.\n",
            "5. Add the chopped tomatoes, turmeric powder, cumin powder, and salt. Cook the mixture until the tomatoes are soft and the flavors are well combined.\n",
            "6. Transfer the cooked tomato mixture into the pot with the partially cooked maize and beans. Stir well to combine.\n",
            "7. Continue to simmer the Githeri over low heat, stirring occasionally, until the maize and beans are fully cooked and tender. This may take another 30-40 minutes.\n",
            "8. Once the Githeri is cooked to your desired consistency, adjust the seasoning with salt if needed.\n",
            "9. Serve the Githeri hot, garnished with chopped fresh coriander if desired. It pairs well with a side of fresh vegetables or a salad.\n",
            "\n",
            "Enjoy your homemade Githeri! If you have any questions or need further assistance with the recipe, feel free to ask.\n"
          ]
        }
      ]
    },
    {
      "cell_type": "code",
      "source": [
        "main()"
      ],
      "metadata": {
        "colab": {
          "base_uri": "https://localhost:8080/"
        },
        "id": "WOrstFRWEYXH",
        "outputId": "568a830f-421e-4b87-fafb-542e58c1c23e"
      },
      "execution_count": 32,
      "outputs": [
        {
          "output_type": "stream",
          "name": "stdout",
          "text": [
            "Enter your request (ingredients, dish name, or recipe):\n",
            "Lamb\n",
            "I'd be happy to help you with a detailed recipe for preparing lamb. Here's a recipe for a classic Roast Leg of Lamb:\n",
            "\n",
            "Ingredients:\n",
            "- 1 leg of lamb (about 5-7 lbs)\n",
            "- 4-5 cloves of garlic, sliced\n",
            "- 2-3 sprigs of fresh rosemary\n",
            "- 2-3 sprigs of fresh thyme\n",
            "- Salt and pepper to taste\n",
            "- Olive oil\n",
            "- 1 cup of lamb or beef broth\n",
            "\n",
            "Instructions:\n",
            "1. Preheat your oven to 350°F (175°C).\n",
            "2. Using a sharp knife, make small incisions all over the lamb.\n",
            "3. Insert the garlic slices and small sprigs of rosemary and thyme into the incisions.\n",
            "4. Rub the lamb with olive oil, ensuring it's coated on all sides.\n",
            "5. Season the lamb generously with salt and pepper.\n",
            "6. Place the lamb in a roasting pan and add the broth to the pan.\n",
            "7. Roast the lamb in the preheated oven for about 20 minutes per pound for medium-rare doneness. Use a meat thermometer to check for an internal temperature of 145°F (63°C) for medium-rare, 160°F (71°C) for medium, or 170°F (77°C) for well done.\n",
            "8. Baste the lamb occasionally with the pan juices during cooking.\n",
            "9. Once cooked to your desired doneness, remove the lamb from the oven and let it rest for about 15-20 minutes before carving.\n",
            "10. Carve the lamb into slices and serve with your favorite sides.\n",
            "\n",
            "Enjoy your delicious roast leg of lamb! Let me know if you need further assistance or if you have any specific preferences for preparing lamb.I'd be happy to help you with a detailed recipe for preparing lamb. Here's a recipe for a classic Roast Leg of Lamb:\n",
            "\n",
            "Ingredients:\n",
            "- 1 leg of lamb (about 5-7 lbs)\n",
            "- 4-5 cloves of garlic, sliced\n",
            "- 2-3 sprigs of fresh rosemary\n",
            "- 2-3 sprigs of fresh thyme\n",
            "- Salt and pepper to taste\n",
            "- Olive oil\n",
            "- 1 cup of lamb or beef broth\n",
            "\n",
            "Instructions:\n",
            "1. Preheat your oven to 350°F (175°C).\n",
            "2. Using a sharp knife, make small incisions all over the lamb.\n",
            "3. Insert the garlic slices and small sprigs of rosemary and thyme into the incisions.\n",
            "4. Rub the lamb with olive oil, ensuring it's coated on all sides.\n",
            "5. Season the lamb generously with salt and pepper.\n",
            "6. Place the lamb in a roasting pan and add the broth to the pan.\n",
            "7. Roast the lamb in the preheated oven for about 20 minutes per pound for medium-rare doneness. Use a meat thermometer to check for an internal temperature of 145°F (63°C) for medium-rare, 160°F (71°C) for medium, or 170°F (77°C) for well done.\n",
            "8. Baste the lamb occasionally with the pan juices during cooking.\n",
            "9. Once cooked to your desired doneness, remove the lamb from the oven and let it rest for about 15-20 minutes before carving.\n",
            "10. Carve the lamb into slices and serve with your favorite sides.\n",
            "\n",
            "Enjoy your delicious roast leg of lamb! Let me know if you need further assistance or if you have any specific preferences for preparing lamb.\n"
          ]
        }
      ]
    },
    {
      "cell_type": "code",
      "source": [
        "main()"
      ],
      "metadata": {
        "colab": {
          "base_uri": "https://localhost:8080/"
        },
        "id": "iChpMpH8E1WR",
        "outputId": "3b686a61-6949-440f-b0d2-0d0b16b6cd9b"
      },
      "execution_count": 33,
      "outputs": [
        {
          "output_type": "stream",
          "name": "stdout",
          "text": [
            "Enter your request (ingredients, dish name, or recipe):\n",
            "Ingredients: 2 cups maize flour (cornmeal) 4 cups water Salt to taste 1 bunch sukuma wiki (collard greens) 2 tomatoes, chopped 1 onion, chopped Cooking oil\n",
            "With the ingredients you've provided, you can make a classic Kenyan dish called \"Ugali with Sukuma Wiki and Tomato Salsa.\" It's a delicious and nutritious meal that is popular in Kenya. Let me know if you would like the recipe for this dish!With the ingredients you've provided, you can make a classic Kenyan dish called \"Ugali with Sukuma Wiki and Tomato Salsa.\" It's a delicious and nutritious meal that is popular in Kenya. Let me know if you would like the recipe for this dish!\n"
          ]
        }
      ]
    },
    {
      "cell_type": "code",
      "source": [
        "main()"
      ],
      "metadata": {
        "colab": {
          "base_uri": "https://localhost:8080/"
        },
        "id": "ndF8vkeTFHbz",
        "outputId": "6d98a391-968f-4562-ef4e-9401d9de2b62"
      },
      "execution_count": 34,
      "outputs": [
        {
          "output_type": "stream",
          "name": "stdout",
          "text": [
            "Enter your request (ingredients, dish name, or recipe):\n",
            "Milk\n",
            "I can definitely provide you with a recipe for making milk at home. Here is the recipe and detailed steps:\n",
            "\n",
            "**Homemade Milk Recipe:**\n",
            "\n",
            "**Ingredients:**\n",
            "- 1 cup of whole milk\n",
            "- 1 tbsp of sugar (optional)\n",
            "- 1/2 tsp of vanilla extract (optional)\n",
            "\n",
            "**Instructions:**\n",
            "1. Pour the whole milk into a small saucepan and place it on the stove over medium heat.\n",
            "2. Heat the milk slowly, stirring occasionally to prevent it from scorching at the bottom of the pan.\n",
            "3. If you want sweetened milk, add sugar to the milk and stir until it dissolves.\n",
            "4. For flavored milk, add vanilla extract to the milk and stir to mix it in.\n",
            "5. Heat the milk until it reaches your desired temperature. Be careful not to let it boil.\n",
            "6. Once the milk is heated, remove it from the stove.\n",
            "7. Let the milk cool slightly before serving.\n",
            "\n",
            "Enjoy your homemade milk! Let me know if you need any more assistance.I can definitely provide you with a recipe for making milk at home. Here is the recipe and detailed steps:\n",
            "\n",
            "**Homemade Milk Recipe:**\n",
            "\n",
            "**Ingredients:**\n",
            "- 1 cup of whole milk\n",
            "- 1 tbsp of sugar (optional)\n",
            "- 1/2 tsp of vanilla extract (optional)\n",
            "\n",
            "**Instructions:**\n",
            "1. Pour the whole milk into a small saucepan and place it on the stove over medium heat.\n",
            "2. Heat the milk slowly, stirring occasionally to prevent it from scorching at the bottom of the pan.\n",
            "3. If you want sweetened milk, add sugar to the milk and stir until it dissolves.\n",
            "4. For flavored milk, add vanilla extract to the milk and stir to mix it in.\n",
            "5. Heat the milk until it reaches your desired temperature. Be careful not to let it boil.\n",
            "6. Once the milk is heated, remove it from the stove.\n",
            "7. Let the milk cool slightly before serving.\n",
            "\n",
            "Enjoy your homemade milk! Let me know if you need any more assistance.\n"
          ]
        }
      ]
    },
    {
      "cell_type": "markdown",
      "source": [],
      "metadata": {
        "id": "llHylKYR9xuV"
      }
    },
    {
      "cell_type": "code",
      "source": [
        "main()"
      ],
      "metadata": {
        "colab": {
          "base_uri": "https://localhost:8080/"
        },
        "id": "5JU3RTYzFWlN",
        "outputId": "46f034ea-c66e-4a1c-c156-8ad01c175066"
      },
      "execution_count": 35,
      "outputs": [
        {
          "output_type": "stream",
          "name": "stdout",
          "text": [
            "Enter your request (ingredients, dish name, or recipe):\n",
            "Meat\n",
            "To prepare a simple and delicious meat dish, here's a recipe for Kenyan Nyama Choma (Grilled Meat):\n",
            "\n",
            "Ingredients:\n",
            "- 2 pounds of beef or goat meat, cut into large chunks\n",
            "- 4 cloves of garlic, minced\n",
            "- 1 tablespoon of ginger, grated\n",
            "- 1 tablespoon of vegetable oil\n",
            "- 1 teaspoon of cayenne pepper\n",
            "- 1 teaspoon of paprika\n",
            "- Salt to taste\n",
            "- Freshly ground black pepper\n",
            "- Lemon wedges for serving\n",
            "\n",
            "Instructions:\n",
            "1. In a bowl, mix the minced garlic, grated ginger, vegetable oil, cayenne pepper, paprika, salt, and black pepper to make a marinade.\n",
            "2. Rub the marinade all over the meat chunks, ensuring they are well coated. Cover the bowl and let it marinate in the refrigerator for at least 1-2 hours, or preferably overnight for the flavors to infuse.\n",
            "3. Preheat your grill to medium-high heat. If using a charcoal grill, make sure the coals are hot and have turned gray.\n",
            "4. Remove the marinated meat from the refrigerator and bring it to room temperature.\n",
            "5. Thread the meat chunks onto skewers, leaving a little space between each piece for even cooking.\n",
            "6. Place the skewers on the grill and cook for about 10-15 minutes, turning occasionally, until the meat is cooked to your desired level of doneness. You can baste the meat with any remaining marinade while grilling for extra flavor.\n",
            "7. Once the meat is cooked, remove the skewers from the grill and let them rest for a few minutes.\n",
            "8. Serve the Nyama Choma hot with lemon wedges on the side for squeezing over the meat before eating.\n",
            "\n",
            "Enjoy your delicious Kenyan Nyama Choma! Let me know if you need more assistance or have any questions.To prepare a simple and delicious meat dish, here's a recipe for Kenyan Nyama Choma (Grilled Meat):\n",
            "\n",
            "Ingredients:\n",
            "- 2 pounds of beef or goat meat, cut into large chunks\n",
            "- 4 cloves of garlic, minced\n",
            "- 1 tablespoon of ginger, grated\n",
            "- 1 tablespoon of vegetable oil\n",
            "- 1 teaspoon of cayenne pepper\n",
            "- 1 teaspoon of paprika\n",
            "- Salt to taste\n",
            "- Freshly ground black pepper\n",
            "- Lemon wedges for serving\n",
            "\n",
            "Instructions:\n",
            "1. In a bowl, mix the minced garlic, grated ginger, vegetable oil, cayenne pepper, paprika, salt, and black pepper to make a marinade.\n",
            "2. Rub the marinade all over the meat chunks, ensuring they are well coated. Cover the bowl and let it marinate in the refrigerator for at least 1-2 hours, or preferably overnight for the flavors to infuse.\n",
            "3. Preheat your grill to medium-high heat. If using a charcoal grill, make sure the coals are hot and have turned gray.\n",
            "4. Remove the marinated meat from the refrigerator and bring it to room temperature.\n",
            "5. Thread the meat chunks onto skewers, leaving a little space between each piece for even cooking.\n",
            "6. Place the skewers on the grill and cook for about 10-15 minutes, turning occasionally, until the meat is cooked to your desired level of doneness. You can baste the meat with any remaining marinade while grilling for extra flavor.\n",
            "7. Once the meat is cooked, remove the skewers from the grill and let them rest for a few minutes.\n",
            "8. Serve the Nyama Choma hot with lemon wedges on the side for squeezing over the meat before eating.\n",
            "\n",
            "Enjoy your delicious Kenyan Nyama Choma! Let me know if you need more assistance or have any questions.\n"
          ]
        }
      ]
    },
    {
      "cell_type": "code",
      "source": [
        "main()"
      ],
      "metadata": {
        "colab": {
          "base_uri": "https://localhost:8080/"
        },
        "id": "i4AYGkl5FeCk",
        "outputId": "e1cb44a4-3833-4f7f-9966-b0b03c47355f"
      },
      "execution_count": 36,
      "outputs": [
        {
          "output_type": "stream",
          "name": "stdout",
          "text": [
            "Enter your request (ingredients, dish name, or recipe):\n",
            "flour\n",
            "I'm happy to help you with that! Here's a detailed recipe to make flour at home using whole wheat grains:\n",
            "\n",
            "**Homemade Whole Wheat Flour**\n",
            "\n",
            "**Ingredients:**\n",
            "- Whole wheat grains\n",
            "\n",
            "**Equipment:**\n",
            "- Grain mill or high-speed blender (such as Vitamix) with a dry container\n",
            "\n",
            "**Instructions:**\n",
            "1. **Prepare the Grains:** Before grinding the grains, it's essential to clean them, removing any debris or stones.\n",
            "   \n",
            "2. **Grind the Grains:** If you're using a grain mill, follow the manufacturer's instructions for grinding whole grains to make flour. If you're using a high-speed blender, add the grains to the dry container and blend on high until you achieve a fine powder-like consistency.\n",
            "\n",
            "3. **Sift (optional):** If you want a finer flour, you can sift the ground flour through a fine-mesh sieve to remove any larger particles. This step is optional but can result in a smoother texture.\n",
            "\n",
            "4. **Store the Flour:** Once you've ground the flour, store it in an airtight container in a cool, dry place away from sunlight. Freshly ground flour can be more perishable than store-bought varieties, so it's best to use it within a few weeks for optimal freshness.\n",
            "\n",
            "5. **Use in Recipes:** Now that you have your homemade whole wheat flour, you can use it in various recipes such as bread, pancakes, muffins, or any other baked goods that call for whole wheat flour.\n",
            "\n",
            "Enjoy your homemade whole wheat flour in your favorite recipes! If you have any more questions or need further assistance, feel free to ask.I'm happy to help you with that! Here's a detailed recipe to make flour at home using whole wheat grains:\n",
            "\n",
            "**Homemade Whole Wheat Flour**\n",
            "\n",
            "**Ingredients:**\n",
            "- Whole wheat grains\n",
            "\n",
            "**Equipment:**\n",
            "- Grain mill or high-speed blender (such as Vitamix) with a dry container\n",
            "\n",
            "**Instructions:**\n",
            "1. **Prepare the Grains:** Before grinding the grains, it's essential to clean them, removing any debris or stones.\n",
            "   \n",
            "2. **Grind the Grains:** If you're using a grain mill, follow the manufacturer's instructions for grinding whole grains to make flour. If you're using a high-speed blender, add the grains to the dry container and blend on high until you achieve a fine powder-like consistency.\n",
            "\n",
            "3. **Sift (optional):** If you want a finer flour, you can sift the ground flour through a fine-mesh sieve to remove any larger particles. This step is optional but can result in a smoother texture.\n",
            "\n",
            "4. **Store the Flour:** Once you've ground the flour, store it in an airtight container in a cool, dry place away from sunlight. Freshly ground flour can be more perishable than store-bought varieties, so it's best to use it within a few weeks for optimal freshness.\n",
            "\n",
            "5. **Use in Recipes:** Now that you have your homemade whole wheat flour, you can use it in various recipes such as bread, pancakes, muffins, or any other baked goods that call for whole wheat flour.\n",
            "\n",
            "Enjoy your homemade whole wheat flour in your favorite recipes! If you have any more questions or need further assistance, feel free to ask.\n"
          ]
        }
      ]
    }
  ]
}