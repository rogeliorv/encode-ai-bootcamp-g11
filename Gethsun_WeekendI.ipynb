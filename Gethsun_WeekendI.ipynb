{
  "nbformat": 4,
  "nbformat_minor": 0,
  "metadata": {
    "colab": {
      "provenance": [],
      "authorship_tag": "ABX9TyNIbXjNUzWSpibB0WLscT67",
      "include_colab_link": true
    },
    "kernelspec": {
      "name": "python3",
      "display_name": "Python 3"
    },
    "language_info": {
      "name": "python"
    }
  },
  "cells": [
    {
      "cell_type": "markdown",
      "metadata": {
        "id": "view-in-github",
        "colab_type": "text"
      },
      "source": [
        "<a href=\"https://colab.research.google.com/github/rogeliorv/encode-ai-bootcamp-g11/blob/main/Gethsun_WeekendI.ipynb\" target=\"_parent\"><img src=\"https://colab.research.google.com/assets/colab-badge.svg\" alt=\"Open In Colab\"/></a>"
      ]
    },
    {
      "cell_type": "code",
      "execution_count": null,
      "metadata": {
        "id": "WwiRUG1XeSS_"
      },
      "outputs": [],
      "source": [
        "pip install openai\n",
        "\n"
      ]
    },
    {
      "cell_type": "code",
      "source": [
        "from openai import OpenAI\n",
        "from google.colab import userdata\n",
        "userdata.get('OPEN_API_KEY')\n",
        "\n",
        "api_key = \"OPEN_API_KEY\"  # Replace with your actual API key\n",
        "client = OpenAI(api_key=api_key)"
      ],
      "metadata": {
        "id": "GdXDd4m9fvav"
      },
      "execution_count": null,
      "outputs": []
    },
    {
      "cell_type": "code",
      "source": [
        "messages = [\n",
        "     {\n",
        "          \"role\": \"system\",\n",
        "          \"content\": \"You are a young and spirited Kenyan cook that loves to make Githeri. You help people by suggesting detailed recipes for dishes they want to cook. You can also provide tips and tricks for cooking and food preparation. You always try to be as clear as possible and provide the best possible recipes for the user's needs. You know a lot about different cuisines and cooking techniques. You are also very patient and understanding with the user's needs and questions.\",\n",
        "     }\n",
        "]\n",
        "\n",
        "messages.append(\n",
        "     {\n",
        "          \"role\": \"system\",\n",
        "          \"content\": \"Your client is going to ask for a recipe about a specific dish. If you do not recognize the dish, you should not try to generate a recipe for it. Do not answer a recipe if you do not understand the name of the dish. If you know the dish, you must answer directly with a detailed recipe for it. If you don't know the dish, you should answer that you don't know the dish and end the conversation.\",\n",
        "     }\n",
        ")\n",
        "\n",
        "dish = input(\"Type the name of the dish you want a recipe for:\\n\")\n",
        "messages.append(\n",
        "    {\n",
        "        \"role\": \"user\",\n",
        "        \"content\": f\"Suggest me a detailed recipe and the preparation steps for making {dish}\"\n",
        "    }\n",
        ")\n",
        "\n",
        "model = \"gpt-3.5-turbo\"\n",
        "\n",
        "stream = client.chat.completions.create(\n",
        "    model=model,\n",
        "    messages=messages,\n",
        "    stream=True,\n",
        ")\n",
        "for chunk in stream:\n",
        "    print(chunk.choices[0].delta.content or \"\", end=\"\")\n",
        "\n",
        "collected_messages = []\n",
        "for chunk in stream:\n",
        "    chunk_message = chunk.choices[0].delta.content or \"\"\n",
        "    print(chunk_message, end=\"\")\n",
        "    collected_messages.append(chunk_message)\n",
        "\n",
        "messages.append(\n",
        "    {\n",
        "        \"role\": \"system\",\n",
        "        \"content\": \"\".join(collected_messages)\n",
        "    }\n",
        ")\n",
        "\n",
        "while True:\n",
        "    print(\"\\n\")\n",
        "    user_input = input()\n",
        "    messages.append(\n",
        "        {\n",
        "            \"role\": \"user\",\n",
        "            \"content\": user_input\n",
        "        }\n",
        "    )\n",
        "    stream = client.chat.completions.create(\n",
        "        model=model,\n",
        "        messages=messages,\n",
        "        stream=True,\n",
        "    )\n",
        "    collected_messages = []\n",
        "    for chunk in stream:\n",
        "        chunk_message = chunk.choices[0].delta.content or \"\"\n",
        "        print(chunk_message, end=\"\")\n",
        "        collected_messages.append(chunk_message)\n",
        "\n",
        "    messages.append(\n",
        "        {\n",
        "            \"role\": \"system\",\n",
        "            \"content\": \"\".join(collected_messages)\n",
        "        }\n",
        "    )"
      ],
      "metadata": {
        "id": "v2QYJGWihZCh",
        "collapsed": true
      },
      "execution_count": null,
      "outputs": []
    }
  ]
}