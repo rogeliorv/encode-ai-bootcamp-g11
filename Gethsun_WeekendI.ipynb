{
  "nbformat": 4,
  "nbformat_minor": 0,
  "metadata": {
    "colab": {
      "provenance": [],
      "authorship_tag": "ABX9TyO/sq/2jepu6Atjknmbt2pU",
      "include_colab_link": true
    },
    "kernelspec": {
      "name": "python3",
      "display_name": "Python 3"
    },
    "language_info": {
      "name": "python"
    }
  },
  "cells": [
    {
      "cell_type": "markdown",
      "metadata": {
        "id": "view-in-github",
        "colab_type": "text"
      },
      "source": [
        "<a href=\"https://colab.research.google.com/github/rogeliorv/encode-ai-bootcamp-g11/blob/main/Gethsun_WeekendI.ipynb\" target=\"_parent\"><img src=\"https://colab.research.google.com/assets/colab-badge.svg\" alt=\"Open In Colab\"/></a>"
      ]
    },
    {
      "cell_type": "markdown",
      "source": [],
      "metadata": {
        "id": "q0-Echsf0SQO"
      }
    },
    {
      "cell_type": "markdown",
      "source": [
        "# Interactive AI Chef: Recipe Suggestions, Critiques, and Ingredient-Based Dish Ideas\n",
        "\n",
        "*This Google Colab notebook provides an interactive AI chef experience. Users can input ingredients to get dish suggestions, request detailed recipes for specific dishes, or submit their own recipes for critique and improvement. The AI, modeled as a young and spirited Kenyan cook, offers clear, detailed, and helpful responses to enhance your cooking experience.*"
      ],
      "metadata": {
        "id": "IiE-DDNXzBYh"
      }
    },
    {
      "cell_type": "code",
      "execution_count": null,
      "metadata": {
        "id": "WwiRUG1XeSS_"
      },
      "outputs": [],
      "source": [
        "!pip install openai"
      ]
    },
    {
      "cell_type": "code",
      "source": [
        "from openai import OpenAI\n",
        "from google.colab import userdata # Import the userdata module from Google Colab\n",
        "\n",
        "\n",
        "# Retrieve your API key (replace 'OPEN_API_KEY' with the name you used to store it)\n",
        "api_key = userdata.get('OPEN_API_KEY')\n",
        "\n",
        "# Initialize the OpenAI client with the API key\n",
        "client = OpenAI(api_key=api_key)"
      ],
      "metadata": {
        "id": "GdXDd4m9fvav"
      },
      "execution_count": 22,
      "outputs": []
    },
    {
      "cell_type": "code",
      "source": [
        "# Initial system messages to set the context and behavior of the AI\n",
        "system_messages = [\n",
        "    {\n",
        "        \"role\": \"system\",\n",
        "        \"content\": (\n",
        "            \"You are a young and spirited Kenyan cook that loves to make Githeri. \"\n",
        "            \"You help people by suggesting detailed recipes for dishes they want to cook, \"\n",
        "            \"suggesting dishes based on ingredients provided, and criticizing recipes given by the user. \"\n",
        "            \"You always try to be as clear as possible and provide the best possible suggestions for the user's needs. \"\n",
        "            \"You know a lot about different cuisines and cooking techniques. You are also very patient and understanding with the user's needs and questions.\"\n",
        "        ),\n",
        "    },\n",
        "    {\n",
        "        \"role\": \"system\",\n",
        "        \"content\": (\n",
        "            \"Your client will provide either ingredients, a dish name, or a recipe. \"\n",
        "            \"If the input is a list of ingredients, suggest a dish name that can be made with those ingredients, but do not provide the recipe at this stage. \"\n",
        "            \"If the input is a dish name, provide a detailed recipe for that dish. \"\n",
        "            \"If the input is a recipe, critique the recipe and suggest improvements. \"\n",
        "            \"If the input does not match these scenarios, deny the request and ask the user to try again.\"\n",
        "        ),\n",
        "    }\n",
        "]\n",
        "\n",
        "# Function to handle ingredients input\n",
        "def handle_ingredients(input_str):\n",
        "    messages = system_messages + [\n",
        "        {\n",
        "            \"role\": \"user\",\n",
        "            \"content\": f\"Suggest a dish name that can be made with these ingredients: {input_str}\"\n",
        "        }\n",
        "    ]\n",
        "    return get_response(messages)\n",
        "\n",
        "# Function to handle dish name input\n",
        "def handle_dish(input_str):\n",
        "    messages = system_messages + [\n",
        "        {\n",
        "            \"role\": \"user\",\n",
        "            \"content\": f\"Suggest me a detailed recipe and the preparation steps for making {input_str}\"\n",
        "        }\n",
        "    ]\n",
        "    return get_response(messages)\n",
        "\n",
        "# Function to handle recipe input\n",
        "def handle_recipe(input_str):\n",
        "    messages = system_messages + [\n",
        "        {\n",
        "            \"role\": \"user\",\n",
        "            \"content\": f\"Criticize this recipe and suggest changes: {input_str}\"\n",
        "        }\n",
        "    ]\n",
        "    return get_response(messages)\n",
        "\n",
        "# Function to get response from OpenAI\n",
        "def get_response(messages):\n",
        "    model = \"gpt-3.5-turbo\"\n",
        "    stream = client.chat.completions.create(\n",
        "        model=model,\n",
        "        messages=messages,\n",
        "        stream=True,\n",
        "    )\n",
        "    collected_messages = []\n",
        "    for chunk in stream:\n",
        "        chunk_message = chunk.choices[0].delta.content or \"\"\n",
        "        print(chunk_message, end=\"\")\n",
        "        collected_messages.append(chunk_message)\n",
        "    return \"\".join(collected_messages)\n",
        "\n",
        "# Main function to process user input and call appropriate function\n",
        "def main():\n",
        "    user_input = input(\"Enter your request (ingredients, dish name, or recipe):\\n\")\n",
        "    if ',' in user_input:\n",
        "        print(handle_ingredients(user_input))\n",
        "    elif any(char.isdigit() for char in user_input):\n",
        "        print(handle_recipe(user_input))\n",
        "    else:\n",
        "        print(handle_dish(user_input))\n",
        "\n",
        "# Running the main function above\n",
        "if __name__ == \"__main__\":\n",
        "    main()"
      ],
      "metadata": {
        "colab": {
          "base_uri": "https://localhost:8080/"
        },
        "id": "v2QYJGWihZCh",
        "outputId": "14e3ec81-3895-456c-b3d4-204200234d0c",
        "collapsed": true
      },
      "execution_count": 23,
      "outputs": [
        {
          "output_type": "stream",
          "name": "stdout",
          "text": [
            "Enter your request (ingredients, dish name, or recipe):\n",
            "beans\n",
            "Sure! Here is a detailed recipe for Kenyan-style beans:\n",
            "\n",
            "Ingredients:\n",
            "- 2 cups of dried beans (soaked overnight and drained)\n",
            "- 1 large onion, chopped\n",
            "- 3 tomatoes, chopped\n",
            "- 2 cloves of garlic, minced\n",
            "- 1 teaspoon of ground cumin\n",
            "- 1 teaspoon of curry powder\n",
            "- 1 teaspoon of paprika\n",
            "- Salt and pepper to taste\n",
            "- 3 cups of water\n",
            "- 2 tablespoons of vegetable oil\n",
            "\n",
            "Instructions:\n",
            "1. Heat oil in a large pot over medium heat.\n",
            "2. Add the chopped onions and garlic. Saute until the onions are soft and translucent.\n",
            "3. Stir in the chopped tomatoes and cook until they are soft and breaking down.\n",
            "4. Add the drained beans to the pot and stir to combine with the onions and tomatoes.\n",
            "5. Sprinkle the cumin, curry powder, paprika, salt, and pepper over the beans. Stir well to ensure the beans are evenly coated with the spices.\n",
            "6. Pour in the water and bring the mixture to a boil.\n",
            "7. Once boiling, reduce the heat to low, cover the pot, and let the beans simmer gently for about 1 to 1.5 hours or until the beans are tender. Stir occasionally and add more water if needed to prevent sticking.\n",
            "8. Taste and adjust seasoning if necessary.\n",
            "9. Serve the beans hot with some rice, chapati, or ugali.\n",
            "\n",
            "Enjoy your delicious Kenyan-style beans! Let me know if you need more information.Sure! Here is a detailed recipe for Kenyan-style beans:\n",
            "\n",
            "Ingredients:\n",
            "- 2 cups of dried beans (soaked overnight and drained)\n",
            "- 1 large onion, chopped\n",
            "- 3 tomatoes, chopped\n",
            "- 2 cloves of garlic, minced\n",
            "- 1 teaspoon of ground cumin\n",
            "- 1 teaspoon of curry powder\n",
            "- 1 teaspoon of paprika\n",
            "- Salt and pepper to taste\n",
            "- 3 cups of water\n",
            "- 2 tablespoons of vegetable oil\n",
            "\n",
            "Instructions:\n",
            "1. Heat oil in a large pot over medium heat.\n",
            "2. Add the chopped onions and garlic. Saute until the onions are soft and translucent.\n",
            "3. Stir in the chopped tomatoes and cook until they are soft and breaking down.\n",
            "4. Add the drained beans to the pot and stir to combine with the onions and tomatoes.\n",
            "5. Sprinkle the cumin, curry powder, paprika, salt, and pepper over the beans. Stir well to ensure the beans are evenly coated with the spices.\n",
            "6. Pour in the water and bring the mixture to a boil.\n",
            "7. Once boiling, reduce the heat to low, cover the pot, and let the beans simmer gently for about 1 to 1.5 hours or until the beans are tender. Stir occasionally and add more water if needed to prevent sticking.\n",
            "8. Taste and adjust seasoning if necessary.\n",
            "9. Serve the beans hot with some rice, chapati, or ugali.\n",
            "\n",
            "Enjoy your delicious Kenyan-style beans! Let me know if you need more information.\n"
          ]
        }
      ]
    }
  ]
}