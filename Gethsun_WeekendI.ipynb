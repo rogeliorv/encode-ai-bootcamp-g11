{
  "nbformat": 4,
  "nbformat_minor": 0,
  "metadata": {
    "colab": {
      "provenance": [],
      "authorship_tag": "ABX9TyMCQdQ6KzN4e9jzU7ylF4+5",
      "include_colab_link": true
    },
    "kernelspec": {
      "name": "python3",
      "display_name": "Python 3"
    },
    "language_info": {
      "name": "python"
    }
  },
  "cells": [
    {
      "cell_type": "markdown",
      "metadata": {
        "id": "view-in-github",
        "colab_type": "text"
      },
      "source": [
        "<a href=\"https://colab.research.google.com/github/rogeliorv/encode-ai-bootcamp-g11/blob/main/Gethsun_WeekendI.ipynb\" target=\"_parent\"><img src=\"https://colab.research.google.com/assets/colab-badge.svg\" alt=\"Open In Colab\"/></a>"
      ]
    },
    {
      "cell_type": "markdown",
      "source": [],
      "metadata": {
        "id": "q0-Echsf0SQO"
      }
    },
    {
      "cell_type": "markdown",
      "source": [
        "# Interactive AI Chef: Recipe Suggestions, Critiques, and Ingredient-Based Dish Ideas\n",
        "\n",
        "*This Google Colab notebook provides an interactive AI chef experience. Users can input ingredients to get dish suggestions, request detailed recipes for specific dishes, or submit their own recipes for critique and improvement. The AI, modeled as a young and spirited Kenyan cook, offers clear, detailed, and helpful responses to enhance your cooking experience.*"
      ],
      "metadata": {
        "id": "IiE-DDNXzBYh"
      }
    },
    {
      "cell_type": "code",
      "execution_count": null,
      "metadata": {
        "id": "WwiRUG1XeSS_"
      },
      "outputs": [],
      "source": [
        "!pip install openai"
      ]
    },
    {
      "cell_type": "code",
      "source": [
        "from openai import OpenAI\n",
        "from google.colab import userdata # Import the userdata module from Google Colab\n",
        "userdata.get('OPEN_API_KEY') # Retrieve your API key (replace 'OPEN_API_KEY' with the name you used to store it)\n",
        "\n",
        "api_key = \"OPEN_API_KEY\"\n",
        "client = OpenAI(api_key=api_key) # Initialize the OpenAI client with the API key"
      ],
      "metadata": {
        "id": "GdXDd4m9fvav"
      },
      "execution_count": 15,
      "outputs": []
    },
    {
      "cell_type": "code",
      "source": [
        "# Initial system messages to set the context and behavior of the AI\n",
        "messages = [\n",
        "    {\n",
        "        \"role\": \"system\",\n",
        "        \"content\": (\n",
        "            \"You are a young and spirited Kenyan cook that loves to make Githeri. \"\n",
        "            \"You help people by suggesting detailed recipes for dishes they want to cook, \"\n",
        "            \"suggesting dishes based on ingredients provided, and criticizing recipes given by the user. \"\n",
        "            \"You always try to be as clear as possible and provide the best possible suggestions for the user's needs. \"\n",
        "            \"You know a lot about different cuisines and cooking techniques. You are also very patient and understanding with the user's needs and questions.\"\n",
        "        ),\n",
        "    },\n",
        "    {\n",
        "        \"role\": \"system\",\n",
        "        \"content\": (\n",
        "            \"Your client will provide either ingredients, a dish name, or a recipe. \"\n",
        "            \"If the input is a list of ingredients, suggest a dish name that can be made with those ingredients, but do not provide the recipe at this stage. \"\n",
        "            \"If the input is a dish name, provide a detailed recipe for that dish. \"\n",
        "            \"If the input is a recipe, critique the recipe and suggest improvements. \"\n",
        "            \"If the input does not match these scenarios, deny the request and ask the user to try again.\"\n",
        "        ),\n",
        "    }\n",
        "]\n",
        "\n",
        "# Get the user's input\n",
        "user_input = input(\"Enter your request (ingredients, dish name, or recipe):\\n\")\n",
        "\n",
        "# Determine the type of input: ingredients, dish, or recipe\n",
        "if ',' in user_input:\n",
        "    input_type = \"ingredients\"\n",
        "elif any(char.isdigit() for char in user_input):\n",
        "    input_type = \"recipe\"\n",
        "else:\n",
        "    input_type = \"dish\"\n",
        "\n",
        "# Respond based on input type\n",
        "if input_type == \"ingredients\":\n",
        "    messages.append(\n",
        "        {\n",
        "            \"role\": \"user\",\n",
        "            \"content\": f\"Suggest a dish name that can be made with these ingredients: {user_input}\"\n",
        "        }\n",
        "    )\n",
        "elif input_type == \"dish\":\n",
        "    messages.append(\n",
        "        {\n",
        "            \"role\": \"user\",\n",
        "            \"content\": f\"Suggest me a detailed recipe and the preparation steps for making {user_input}\"\n",
        "        }\n",
        "    )\n",
        "elif input_type == \"recipe\":\n",
        "    messages.append(\n",
        "        {\n",
        "            \"role\": \"user\",\n",
        "            \"content\": f\"Criticize this recipe and suggest changes: {user_input}\"\n",
        "        }\n",
        "    )\n",
        "else:\n",
        "    print(\"Invalid input. Please enter a list of ingredients, a dish name, or a recipe.\")\n",
        "    exit()\n",
        "\n",
        "# Define the model to use for the completion\n",
        "model = \"gpt-3.5-turbo\"\n",
        "\n",
        "# Create a stream to get the completion from the model\n",
        "stream = client.chat.completions.create(\n",
        "    model=model,\n",
        "    messages=messages,\n",
        "    stream=True,\n",
        ")\n",
        "\n",
        "# Print the response from the model in real-time\n",
        "for chunk in stream:\n",
        "    print(chunk.choices[0].delta.content or \"\", end=\"\")\n",
        "\n",
        "# Collect the messages from the stream\n",
        "collected_messages = []\n",
        "for chunk in stream:\n",
        "    chunk_message = chunk.choices[0].delta.content or \"\"\n",
        "    print(chunk_message, end=\"\")\n",
        "    collected_messages.append(chunk_message)\n",
        "\n",
        "# Append the response to the messages list\n",
        "messages.append(\n",
        "    {\n",
        "        \"role\": \"system\",\n",
        "        \"content\": \"\".join(collected_messages)\n",
        "    }\n",
        ")\n",
        "\n",
        "# Loop to keep taking input and generating responses\n",
        "while True:\n",
        "    print(\"\\n\")\n",
        "    user_input = input()  # Get user input\n",
        "    # Determine the type of input: ingredients, dish, or recipe\n",
        "    if ',' in user_input:\n",
        "        input_type = \"ingredients\"\n",
        "    elif any(char.isdigit() for char in user_input):\n",
        "        input_type = \"recipe\"\n",
        "    else:\n",
        "        input_type = \"dish\"\n",
        "\n",
        "    # Respond based on input type\n",
        "    if input_type == \"ingredients\":\n",
        "        messages.append(\n",
        "            {\n",
        "                \"role\": \"user\",\n",
        "                \"content\": f\"Suggest a dish name that can be made with these ingredients: {user_input}\"\n",
        "            }\n",
        "        )\n",
        "    elif input_type == \"dish\":\n",
        "        messages.append(\n",
        "            {\n",
        "                \"role\": \"user\",\n",
        "                \"content\": f\"Suggest me a detailed recipe and the preparation steps for making {user_input}\"\n",
        "            }\n",
        "        )\n",
        "    elif input_type == \"recipe\":\n",
        "        messages.append(\n",
        "            {\n",
        "                \"role\": \"user\",\n",
        "                \"content\": f\"Criticize this recipe and suggest changes: {user_input}\"\n",
        "            }\n",
        "        )\n",
        "    else:\n",
        "        print(\"Invalid input. Please enter a list of ingredients, a dish name, or a recipe.\")\n",
        "        continue\n",
        "\n",
        "    # Create a stream to get the completion from the model\n",
        "    stream = client.chat.completions.create(\n",
        "        model=model,\n",
        "        messages=messages,\n",
        "        stream=True,\n",
        "    )\n",
        "\n",
        "    # Collect the messages from the stream and print the response in real-time\n",
        "    collected_messages = []\n",
        "    for chunk in stream:\n",
        "        chunk_message = chunk.choices[0].delta.content or \"\"\n",
        "        print(chunk_message, end=\"\")\n",
        "        collected_messages.append(chunk_message)\n",
        "\n",
        "    # Append the response to the messages list\n",
        "    messages.append(\n",
        "        {\n",
        "            \"role\": \"system\",\n",
        "            \"content\": \"\".join(collected_messages)\n",
        "        }\n",
        "    )\n",
        ""
      ],
      "metadata": {
        "id": "v2QYJGWihZCh",
        "collapsed": true
      },
      "execution_count": null,
      "outputs": []
    }
  ]
}